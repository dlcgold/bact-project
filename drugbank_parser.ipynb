{
 "cells": [
  {
   "cell_type": "code",
   "execution_count": null,
   "metadata": {},
   "outputs": [],
   "source": []
  },
  {
   "cell_type": "code",
   "execution_count": 1,
   "metadata": {},
   "outputs": [
    {
     "name": "stdout",
     "output_type": "stream",
     "text": [
      "\n",
      "Usage:   \n",
      "  /home/ducky/bin/miniconda3/envs/bio/bin/python -m pip install [options] <requirement specifier> [package-index-options] ...\n",
      "  /home/ducky/bin/miniconda3/envs/bio/bin/python -m pip install [options] -r <requirements file> [package-index-options] ...\n",
      "  /home/ducky/bin/miniconda3/envs/bio/bin/python -m pip install [options] [-e] <vcs project url> ...\n",
      "  /home/ducky/bin/miniconda3/envs/bio/bin/python -m pip install [options] [-e] <local project path> ...\n",
      "  /home/ducky/bin/miniconda3/envs/bio/bin/python -m pip install [options] <archive url/path> ...\n",
      "\n",
      "no such option: -y\n",
      "Note: you may need to restart the kernel to use updated packages.\n",
      "\u001b[33mWARNING: Skipping drugbank_downloader as it is not installed.\u001b[0m\u001b[33m\n",
      "\u001b[0mNote: you may need to restart the kernel to use updated packages.\n"
     ]
    }
   ],
   "source": [
    "%pip install -y bs4\n",
    "# %pip install -y drugbank_downloader\n",
    "%pip uninstall -y drugbank_downloader"
   ]
  },
  {
   "cell_type": "code",
   "execution_count": 2,
   "metadata": {},
   "outputs": [],
   "source": [
    "import requests as req\n",
    "import os\n",
    "from bs4 import BeautifulSoup as bfs"
   ]
  },
  {
   "cell_type": "code",
   "execution_count": 3,
   "metadata": {},
   "outputs": [],
   "source": [
    "def retrive_page(url):\n",
    "    headers = {\n",
    "    'User-Agent': 'Mozilla/5.0 (Windows NT 10.0; Win64; x64; rv:77.0) Gecko/20100101 Firefox/77.0'\n",
    "    }\n",
    "    response = req.get(url,headers)\n",
    "    soup = bfs(response.content, 'html.parser')\n",
    "    return soup\n",
    "\n",
    "def get_drugbank_link(soup):\n",
    "    links = []\n",
    "    for link in soup.find_all('link'):\n",
    "        if 'drugbank' in link.get('href'):\n",
    "            links.append(link.get('href'))\n",
    "    if len(links)==0:\n",
    "        return \"\"\n",
    "    return links[0]\n",
    "    \n",
    "def get_db_index(soup):\n",
    "    for link in soup.find_all('link'):\n",
    "        if 'drugbank' in link.get('href'):\n",
    "            return link.get('href').split('/')[-1]\n",
    "\n",
    "class db_object():\n",
    "    def __init__(self, drugname):\n",
    "        self.drugname = drugname\n",
    "        self.query_url = 'https://go.drugbank.com/unearth/q?searcher=drugs&query='+self.drugname\n",
    "        try:\n",
    "            self.url = get_drugbank_link(retrive_page(self.query_url))\n",
    "        except:\n",
    "            self.url = 'NoURL'\n",
    "\n",
    "        try:\n",
    "            self.index = get_db_index(retrive_page(self.url))\n",
    "        except:\n",
    "            self.index = 'NoID'\n",
    "        \n",
    "        try:\n",
    "            self.page = retrive_page(self.url)\n",
    "        except:\n",
    "            self.page = 'NoPage'\n",
    "    \n"
   ]
  },
  {
   "cell_type": "code",
   "execution_count": 4,
   "metadata": {},
   "outputs": [
    {
     "name": "stdout",
     "output_type": "stream",
     "text": [
      "https://go.drugbank.com/drugs/DB14761\n",
      "https://go.drugbank.com/drugs/DB00537\n",
      "https://go.drugbank.com/drugs/DB00316\n"
     ]
    }
   ],
   "source": [
    "remdesivir = db_object(\"Remdesivir\")\n",
    "print(remdesivir.url)\n",
    "\n",
    "drug1 = db_object(\"Ciprofloxacin hydrochloride\")\n",
    "print(drug1.url)\n",
    "\n",
    "drug_none = db_object(\"Tylenol\")\n",
    "print(drug_none.url)\n"
   ]
  },
  {
   "cell_type": "code",
   "execution_count": null,
   "metadata": {},
   "outputs": [],
   "source": []
  }
 ],
 "metadata": {
  "interpreter": {
   "hash": "ef2a7284430f1a88c8ae79d872df213de471f54b74c4e96aa716701f7ba44c1a"
  },
  "kernelspec": {
   "display_name": "Python 3.9.12 ('bio')",
   "language": "python",
   "name": "python3"
  },
  "language_info": {
   "codemirror_mode": {
    "name": "ipython",
    "version": 3
   },
   "file_extension": ".py",
   "mimetype": "text/x-python",
   "name": "python",
   "nbconvert_exporter": "python",
   "pygments_lexer": "ipython3",
   "version": "3.9.13"
  },
  "orig_nbformat": 4
 },
 "nbformat": 4,
 "nbformat_minor": 2
}
