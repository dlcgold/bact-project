{
  "cells": [
    {
      "cell_type": "code",
      "execution_count": 1,
      "metadata": {
        "colab": {
          "base_uri": "https://localhost:8080/"
        },
        "id": "rSZsyq5Jm6bL",
        "outputId": "491f4e69-aac8-49b4-f2ba-3ef2585132b8"
      },
      "outputs": [
        {
          "name": "stdout",
          "output_type": "stream",
          "text": [
            "Requirement already satisfied: bio in /home/ducky/bin/miniconda3/envs/bio/lib/python3.9/site-packages (1.3.9)\n",
            "Requirement already satisfied: requests in /home/ducky/bin/miniconda3/envs/bio/lib/python3.9/site-packages (from bio) (2.27.1)\n",
            "Requirement already satisfied: biopython>=1.79 in /home/ducky/bin/miniconda3/envs/bio/lib/python3.9/site-packages (from bio) (1.79)\n",
            "Requirement already satisfied: tqdm in /home/ducky/bin/miniconda3/envs/bio/lib/python3.9/site-packages (from bio) (4.64.0)\n",
            "Requirement already satisfied: mygene in /home/ducky/bin/miniconda3/envs/bio/lib/python3.9/site-packages (from bio) (3.2.2)\n",
            "Requirement already satisfied: numpy in /home/ducky/bin/miniconda3/envs/bio/lib/python3.9/site-packages (from biopython>=1.79->bio) (1.22.4)\n",
            "Requirement already satisfied: biothings-client>=0.2.6 in /home/ducky/bin/miniconda3/envs/bio/lib/python3.9/site-packages (from mygene->bio) (0.2.6)\n",
            "Requirement already satisfied: charset-normalizer~=2.0.0 in /home/ducky/bin/miniconda3/envs/bio/lib/python3.9/site-packages (from requests->bio) (2.0.12)\n",
            "Requirement already satisfied: urllib3<1.27,>=1.21.1 in /home/ducky/bin/miniconda3/envs/bio/lib/python3.9/site-packages (from requests->bio) (1.26.9)\n",
            "Requirement already satisfied: idna<4,>=2.5 in /home/ducky/bin/miniconda3/envs/bio/lib/python3.9/site-packages (from requests->bio) (3.3)\n",
            "Requirement already satisfied: certifi>=2017.4.17 in /home/ducky/bin/miniconda3/envs/bio/lib/python3.9/site-packages (from requests->bio) (2022.5.18.1)\n",
            "Note: you may need to restart the kernel to use updated packages.\n",
            "Requirement already satisfied: bs4 in /home/ducky/bin/miniconda3/envs/bio/lib/python3.9/site-packages (0.0.1)\n",
            "Requirement already satisfied: beautifulsoup4 in /home/ducky/bin/miniconda3/envs/bio/lib/python3.9/site-packages (from bs4) (4.11.1)\n",
            "Requirement already satisfied: soupsieve>1.2 in /home/ducky/bin/miniconda3/envs/bio/lib/python3.9/site-packages (from beautifulsoup4->bs4) (2.3.2.post1)\n",
            "Note: you may need to restart the kernel to use updated packages.\n"
          ]
        }
      ],
      "source": [
        "%pip install bio\n",
        "from Bio.KEGG import REST\n",
        "import json\n",
        "import os\n",
        "%pip install bs4\n",
        "import requests as req\n",
        "from bs4 import BeautifulSoup as bfs"
      ]
    },
    {
      "cell_type": "code",
      "execution_count": 2,
      "metadata": {},
      "outputs": [],
      "source": [
        "## DRUGBANK_link retrival\n",
        "def retrive_page(url):\n",
        "    headers = {\n",
        "    'User-Agent': 'Mozilla/5.0 (Windows NT 10.0; Win64; x64; rv:77.0) Gecko/20100101 Firefox/77.0'\n",
        "    }\n",
        "    response = req.get(url,headers)\n",
        "    soup = bfs(response.content, 'html.parser')\n",
        "    return soup\n",
        "\n",
        "def get_drugbank_link(soup):\n",
        "    links = []\n",
        "    for link in soup.find_all('link'):\n",
        "        if 'drugbank' in link.get('href'):\n",
        "            links.append(link.get('href'))\n",
        "    if len(links)==0:\n",
        "        return \"\"\n",
        "    return links[0]\n",
        "    \n",
        "def get_db_index(soup):\n",
        "    for link in soup.find_all('link'):\n",
        "        if 'drugbank' in link.get('href'):\n",
        "            return link.get('href').split('/')[-1]\n",
        "\n",
        "## DRUGBANK_OBJECT class\n",
        "class db_object():\n",
        "    def __init__(self, drugname):\n",
        "        self.drugname = drugname\n",
        "        self.query_url = 'https://go.drugbank.com/unearth/q?searcher=drugs&query='+self.drugname\n",
        "        try:\n",
        "            self.url = get_drugbank_link(retrive_page(self.query_url))\n",
        "        except:\n",
        "            self.url = 'NoURL'\n",
        "\n",
        "        try:\n",
        "            self.index = get_db_index(retrive_page(self.url))\n",
        "        except:\n",
        "            self.index = 'NoID'\n",
        "        \n",
        "        try:\n",
        "            self.page = retrive_page(self.url)\n",
        "        except:\n",
        "            self.page = 'NoPage'\n",
        "    \n"
      ]
    },
    {
      "cell_type": "code",
      "execution_count": 3,
      "metadata": {
        "id": "2HmazCy9cgoK"
      },
      "outputs": [],
      "source": [
        "# Estrazione batteri\n",
        "sngOrg = REST.kegg_get(\"br:br08401\").read()\n",
        "H_list = []\n",
        "check = True\n",
        "bact = False\n",
        "for line in sngOrg.splitlines():\n",
        "  if not check:\n",
        "    break\n",
        "  if line == \"ABacterial infections\":\n",
        "    bact = True\n",
        "    continue\n",
        "  if bact:\n",
        "    if line[0] == 'C':\n",
        "      #print(line)\n",
        "      H_list.append(line.split()[1])\n",
        "  if bact and line[0] == 'A':\n",
        "    check = False"
      ]
    },
    {
      "cell_type": "code",
      "execution_count": 4,
      "metadata": {
        "colab": {
          "base_uri": "https://localhost:8080/"
        },
        "id": "3t3-qHRumvtC",
        "outputId": "a0a55b92-f959-47ce-94ac-9c00122fe6cd"
      },
      "outputs": [
        {
          "name": "stdout",
          "output_type": "stream",
          "text": [
            "['H00277', 'H00278', 'H00280', 'H01311', 'H01312', 'H00279', 'H01313', 'H01339', 'H00111', 'H00112', 'H00113', 'H00299', 'H00300', 'H00301', 'H01415', 'H00302', 'H00297', 'H00298', 'H00303', 'H01343', 'H01335', 'H01067', 'H01345', 'H01350', 'H01414', 'H00304', 'H01366', 'H01330', 'H00305', 'H00306', 'H01068', 'H01317', 'H01069', 'H00110', 'H00307', 'H00308', 'H01070', 'H00313', 'H01441', 'H00309', 'H01072', 'H01073', 'H00310', 'H00311', 'H00312', 'H01074', 'H00314', 'H00315', 'H01353', 'H01337', 'H01080', 'H00316', 'H00317', 'H00319', 'H01066', 'H01077', 'H01083', 'H01084', 'H01081', 'H01373', 'H00320', 'H01374', 'H01332', 'H00321', 'H01379', 'H00322', 'H02379', 'H00323', 'H01397', 'H00324', 'H01139', 'H01141', 'H01142', 'H01140', 'H01157', 'H00325', 'H01144', 'H00326', 'H00327', 'H01147', 'H01148', 'H01150', 'H01151', 'H01164', 'H01165', 'H01166', 'H01167', 'H01169', 'H00328', 'H00329', 'H01399', 'H00330', 'H01409', 'H00331', 'H01401', 'H01176', 'H01175', 'H00332', 'H01405', 'H00333', 'H01424', 'H01515', 'H01517', 'H01426', 'H01321', 'H01423', 'H01406', 'H01443', 'H01041', 'H00335', 'H00336', 'H00337', 'H00339', 'H00338', 'H00340', 'H01444', 'H01315', 'H00341', 'H00388', 'H00342', 'H01472', 'H01458', 'H02029', 'H01462', 'H00344', 'H01042', 'H00343', 'H01051', 'H00345', 'H01451', 'H01021', 'H01049', 'H01050', 'H00352', 'H01445', 'H01446', 'H01411', 'H01325', 'H01380', 'H00349', 'H00347', 'H00348', 'H00351', 'H00350', 'H01064', 'H00353', 'H00427', 'H00354', 'H01318', 'H01530', 'H01531', 'H00355', 'H01454', 'H01314', 'H02076', 'H01407', 'H01059', 'H01442', 'H01455', 'H00334', 'H01331', 'H01408', 'H01440', 'H01410', 'H01422']\n",
            "165\n",
            "['H00111', 'H00299', 'H01415', 'H00297', 'H01366', 'H00305', 'H00306', 'H00110', 'H00310', 'H00311', 'H00312', 'H00314', 'H00315', 'H00319', 'H00320', 'H00321', 'H00322', 'H02379', 'H00323', 'H00325', 'H00326', 'H00328', 'H00330', 'H01409', 'H01176', 'H01175', 'H00332', 'H00333', 'H01424', 'H01515', 'H01517', 'H01321', 'H00336', 'H00337', 'H00339', 'H00338', 'H00340', 'H01315', 'H00342', 'H01472', 'H01458', 'H00344', 'H00343', 'H00345', 'H01445', 'H01325', 'H01380', 'H00349', 'H00347', 'H00348', 'H00350', 'H00353', 'H00427', 'H00354', 'H01318', 'H01530', 'H01531', 'H01314', 'H00334', 'H01331', 'H01440', 'H01410']\n",
            "['H00277', 'H00278', 'H00280', 'H01311', 'H01312', 'H00279', 'H01313', 'H01339', 'H00112', 'H00113', 'H00300', 'H00301', 'H00302', 'H00298', 'H00303', 'H01343', 'H01335', 'H01067', 'H01345', 'H01350', 'H01414', 'H00304', 'H01330', 'H01068', 'H01317', 'H01069', 'H00307', 'H00308', 'H01070', 'H00313', 'H01441', 'H00309', 'H01072', 'H01073', 'H01074', 'H01353', 'H01337', 'H01080', 'H00316', 'H00317', 'H01066', 'H01077', 'H01083', 'H01084', 'H01081', 'H01373', 'H01374', 'H01332', 'H01379', 'H01397', 'H00324', 'H01139', 'H01141', 'H01142', 'H01140', 'H01157', 'H01144', 'H00327', 'H01147', 'H01148', 'H01150', 'H01151', 'H01164', 'H01165', 'H01166', 'H01167', 'H01169', 'H00329', 'H01399', 'H00331', 'H01401', 'H01405', 'H01426', 'H01423', 'H01406', 'H01443', 'H01041', 'H00335', 'H01444', 'H00341', 'H00388', 'H02029', 'H01462', 'H01042', 'H01051', 'H01451', 'H01021', 'H01049', 'H01050', 'H00352', 'H01446', 'H01411', 'H00351', 'H01064', 'H00355', 'H01454', 'H02076', 'H01407', 'H01059', 'H01442', 'H01455', 'H01408', 'H01422']\n"
          ]
        }
      ],
      "source": [
        "#sngOrg = REST.kegg_list(\"ds\").read()\n",
        "#sngOrg = REST.kegg_get([\"H02511\", \"H02512\"]).read()\n",
        "#sngOrg = REST.kegg_get(\"br:br08401\").read()\n",
        "#print(sngOrg)\n",
        "#json_data = json.loads(sngOrg)\n",
        "#H_list = []\n",
        "#print(json_data['children'][0]['children'][0]['children'][0]['name'])\n",
        "#print(len(json_data['children']))\n",
        "#for line in sngOrg.splitlines():\n",
        "#  if line[0] == 'C':\n",
        "#    H_list.append(line.split()[1])\n",
        "# H_list = []\n",
        "#for line in sngOrg.splitlines():\n",
        "#  code = line.split(\"\\t\")[0]\n",
        "#  code_split = code.split(\":\")\n",
        "#  if code_split[0] == \"ds\":\n",
        "#    H_list.append(code_split[1])\n",
        "print(H_list)\n",
        "print(len(H_list))\n",
        "no_paper = 0\n",
        "drug_list = []\n",
        "no_drug_list = []\n",
        "all_get = \"\"\n",
        "for h_id in H_list:\n",
        "  tmp = REST.kegg_get(h_id).read()\n",
        "  with open(f\"kegg_get/{h_id}.txt\", \"w\") as f:\n",
        "    f.write(tmp)\n",
        "  all_get = all_get + tmp\n",
        "  all_get = all_get + \"\\n\"\n",
        "  if 'DRUG' in tmp:\n",
        "    drug_list.append(h_id)\n",
        "  else:\n",
        "    no_drug_list.append(h_id)\n",
        "  if not 'PMID' in tmp:\n",
        "    #print(tmp)\n",
        "    no_paper = no_paper + 1\n",
        "print(drug_list)\n",
        "print(no_drug_list)\n",
        "#sngOrg = REST.kegg_get([\"H00349\"]).read()\n",
        "#print('DRUG' in sngOrg)\n"
      ]
    },
    {
      "cell_type": "code",
      "execution_count": 5,
      "metadata": {
        "colab": {
          "base_uri": "https://localhost:8080/"
        },
        "id": "qZ7rTcqBM4uA",
        "outputId": "8ca078f3-aa5e-4388-824d-f01b188df060"
      },
      "outputs": [
        {
          "name": "stdout",
          "output_type": "stream",
          "text": [
            "62\n",
            "103\n",
            "1\n"
          ]
        }
      ],
      "source": [
        "print(len(drug_list))\n",
        "print(len(no_drug_list))\n",
        "print(no_paper)"
      ]
    },
    {
      "cell_type": "code",
      "execution_count": 6,
      "metadata": {
        "colab": {
          "base_uri": "https://localhost:8080/"
        },
        "id": "69INgrulNBnD",
        "outputId": "2a56644a-d7a7-4dcb-bde7-da641327b14c"
      },
      "outputs": [
        {
          "name": "stdout",
          "output_type": "stream",
          "text": [
            "ENTRY       H01415                      Disease\n",
            "NAME        Donovanosis;\n",
            "            Granuloma inguinale\n",
            "DESCRIPTION Donovanosis (granuloma inguinale) is an acquired chronic, slowly progressive, mildly contagious disease caused by Klebsiella granulomatis that was called Calymmatobacterium granulomatis. This sexually transmitted disease is characterized by granulomatous ulceration of the genitalia and neighboring sites, with little or no tendency to spontaneous healing.\n",
            "CATEGORY    Infectious disease\n",
            "BRITE       Infectious diseases [BR:br08401]\n",
            "             Bacterial infections\n",
            "              Infections caused by enterobacteria\n",
            "               H01415  Donovanosis\n",
            "            Human diseases in ICD-11 classification [BR:br08403]\n",
            "             01 Certain infectious or parasitic diseases\n",
            "              Predominantly sexually transmitted infections\n",
            "               1A91  Granuloma inguinale\n",
            "                H01415  Donovanosis\n",
            "PATHOGEN    Klebsiella granulomatis\n",
            "DRUG        Tetracycline hydrochloride [DR:D02122]\n",
            "            Doxycycline [DR:D00307]\n",
            "            Doxycycline hyclate [DR:D02129]\n",
            "            Doxycycline calcium [DR:D03903]\n",
            "            Minocycline hydrochloride [DR:D00850]\n",
            "            Streptomycin sulfate [DR:D01350]\n",
            "            Demeclocycline hydrochloride [DR:D00290]\n",
            "DBLINKS     ICD-11: 1A91\n",
            "            ICD-10: A58\n",
            "            MeSH: D006100\n",
            "            MedlinePlus: 000636\n",
            "REFERENCE   PMID:12473810\n",
            "  AUTHORS   O'Farrell N\n",
            "  TITLE     Donovanosis.\n",
            "  JOURNAL   Sex Transm Infect 78:452-7 (2002)\n",
            "            DOI:10.1136/sti.78.6.392-a\n",
            "REFERENCE   PMID:24958990\n",
            "  AUTHORS   Pilani A, Vora R, Anjaneyan G\n",
            "  TITLE     Granuloma inguinale mimicking as squamous cell carcinoma of penis.\n",
            "  JOURNAL   Indian J Sex Transm Dis 35:56-8 (2014)\n",
            "            DOI:10.4103/0253-7184.132433\n",
            "///\n",
            "\n"
          ]
        }
      ],
      "source": [
        "#sngOrg = REST.kegg_get(\"gn:ype\").read()\n",
        "\n",
        "sngOrg = REST.kegg_get(\"ds:H01415\").read()\n",
        "\n",
        "print(sngOrg)"
      ]
    },
    {
      "cell_type": "code",
      "execution_count": 7,
      "metadata": {
        "id": "8rmHisbFinMF"
      },
      "outputs": [],
      "source": [
        "class paper:\n",
        "   def __init__(self, pmid, authors, title, journal, doi):\n",
        "    self.pmid = pmid\n",
        "    self.authors = authors\n",
        "    self.title = title\n",
        "    self.journal = journal\n",
        "    self.doi = doi\n",
        "\n",
        "   def __repr__(self):\n",
        "    return f\"{self.title} ({self.pmid})\\t{self.authors}\\t{self.journal} ({self.doi})\"\n",
        "      \n",
        "class drug:\n",
        "  def __init__(self, name, id):\n",
        "    self.name = name\n",
        "    self.id = id\n",
        "    self.drugbank_id = \"\"\n",
        "\n",
        "  def __repr__(self):\n",
        "    return f\"{self.name}, ({self.id})\"\n",
        "\n",
        "class bact:\n",
        "  def __init__(self, name, id, description, category, sub, drugs, papers):\n",
        "    self.name = name\n",
        "    self.id = id\n",
        "    self.drugs = drugs\n",
        "    self.papers = papers\n",
        "    self.description = description\n",
        "    self.category = category\n",
        "    self.sub = sub\n",
        "  def __repr__(self):\n",
        "    return f\"{self.name} ({self.id})\\n{self.drugs}\\n ({self.papers})\""
      ]
    },
    {
      "cell_type": "code",
      "execution_count": 11,
      "metadata": {
        "id": "gIVehzfwkPEm"
      },
      "outputs": [],
      "source": [
        "def parse(data):\n",
        "  sub_bool = False\n",
        "  sub_count = 0\n",
        "  bact_sub = \"\"\n",
        "  drug_bool = False\n",
        "  paper_bool = False\n",
        "  id_tmp = \"\"\n",
        "  title_tmp = \"\"\n",
        "  authors_tmp = \"\"\n",
        "  journal_tmp = \"\"\n",
        "  doi_tmp = \"\"\n",
        "  doi_bool = False\n",
        "  bact_name = \"\"\n",
        "  bact_id = \"\"\n",
        "  bact_cat = \"\"\n",
        "  bact_des = \"\"\n",
        "  drugs = []\n",
        "  papers = []\n",
        "  for line in data.splitlines():\n",
        "    spl = line.split()\n",
        "    if spl[0] == \"NAME\":\n",
        "      bact_name = \"\".join(spl[i]+ \" \"  for i in range(1, len(spl)))\n",
        "    if spl[0] == \"ENTRY\":\n",
        "      bact_id = \"\".join(spl[i]+ \" \"  for i in range(1, len(spl))).split()[0]\n",
        "    if spl[0] == \"CATEGORY\":\n",
        "      bact_cat = \"\".join(spl[i]+ \" \"  for i in range(1, len(spl)))\n",
        "    if spl[0] == \"DESCRIPTION\":\n",
        "      bact_des = \"\".join(spl[i]+ \" \"  for i in range(1, len(spl)))\n",
        "\n",
        "    if sub_bool == False and spl[0] == \"BRITE\":\n",
        "      sub_bool = True\n",
        "      sub_count += 1\n",
        "    elif sub_bool == True and sub_count == 1:\n",
        "      sub_count += 1\n",
        "    elif sub_bool == True and sub_count == 2:\n",
        "      sub_bool = False\n",
        "      bact_sub = \"\".join(spl[i]+ \" \"  for i in range(0, len(spl)))\n",
        "\n",
        "    if drug_bool == False and spl[0] == \"DRUG\":\n",
        "      name = \"\".join(spl[i]+ \" \"  for i in range(1, len(spl)-1))\n",
        "      drugs.append(drug(name, spl[-1].replace(\"[\", \"\").replace(\"]\", \"\")))\n",
        "      drug_bool = True\n",
        "    elif drug_bool == True and spl[0].upper() != spl[0]:\n",
        "      name = \"\".join(spl[i]+ \" \"  for i in range(0, len(spl)))\n",
        "      drugs.append(drug(name, spl[-1].replace(\"[\", \"\").replace(\"]\", \"\")))\n",
        "    elif drug_bool == True and spl[0].upper() == spl[0]:\n",
        "      drug_bool = False\n",
        "\n",
        "    if paper_bool == False and spl[0] == \"REFERENCE\":\n",
        "      if len(spl) > 1 and spl[1].split(\":\")[0] == \"PMID\":\n",
        "        id_tmp = spl[1].split(\":\")[1].replace('\\n',' ')\n",
        "      paper_bool = True\n",
        "    elif paper_bool == True and spl[0] == \"AUTHORS\":\n",
        "      authors_tmp = \"\".join(spl[i]+ \" \"  for i in range(1, len(spl)))\n",
        "    elif paper_bool == True and spl[0] == \"TITLE\":\n",
        "      title_tmp = \"\".join(spl[i]+ \" \"  for i in range(1, len(spl)))\n",
        "    elif paper_bool == True and spl[0] == \"JOURNAL\":\n",
        "      journal_tmp = \"\".join(spl[i]+ \" \"  for i in range(1, len(spl)))\n",
        "      doi_bool = True\n",
        "    elif paper_bool == True and doi_bool == True and spl[0].upper() != spl[0]:\n",
        "      doi_tmp = spl[0].split(\":\")[1].replace('\\n',' ')\n",
        "      doi_bool = False\n",
        "      paper_bool = False\n",
        "      papers.append(paper(id_tmp, authors_tmp, title_tmp, journal_tmp, doi_tmp))\n",
        "\n",
        "  #print(drugs)\n",
        "  #print(papers)\n",
        "\n",
        "  bact_tmp = bact(bact_name, \"ds:\" + bact_id, bact_des, bact_cat, bact_sub, drugs, papers)\n",
        "  #print(bact_tmp)\n",
        "  return bact_tmp"
      ]
    },
    {
      "cell_type": "code",
      "execution_count": 12,
      "metadata": {
        "id": "ZJPynR2gkU4H"
      },
      "outputs": [],
      "source": [
        "bact_tmp = parse(sngOrg)"
      ]
    },
    {
      "cell_type": "code",
      "execution_count": 13,
      "metadata": {},
      "outputs": [
        {
          "data": {
            "text/plain": [
              "[Tetracycline hydrochloride , (DR:D02122),\n",
              " Doxycycline [DR:D00307] , (DR:D00307),\n",
              " Doxycycline hyclate [DR:D02129] , (DR:D02129),\n",
              " Doxycycline calcium [DR:D03903] , (DR:D03903),\n",
              " Minocycline hydrochloride [DR:D00850] , (DR:D00850),\n",
              " Streptomycin sulfate [DR:D01350] , (DR:D01350),\n",
              " Demeclocycline hydrochloride [DR:D00290] , (DR:D00290)]"
            ]
          },
          "execution_count": 13,
          "metadata": {},
          "output_type": "execute_result"
        }
      ],
      "source": [
        "bact_tmp.drugs"
      ]
    },
    {
      "cell_type": "code",
      "execution_count": 35,
      "metadata": {},
      "outputs": [
        {
          "name": "stdout",
          "output_type": "stream",
          "text": [
            "DB00759\n",
            "NoID\n",
            "NoID\n",
            "NoID\n",
            "NoID\n",
            "NoID\n",
            "NoID\n"
          ]
        }
      ],
      "source": [
        "# call the drugbank object by drug_name\n",
        "drugs_name = []\n",
        "for drug in bact_tmp.drugs:\n",
        "  tmp = db_object(drug.name)\n",
        "  print(tmp.index)\n",
        "\n"
      ]
    },
    {
      "cell_type": "code",
      "execution_count": null,
      "metadata": {
        "colab": {
          "base_uri": "https://localhost:8080/"
        },
        "id": "7eJzrsa0zJu9",
        "outputId": "9a3cdfd6-091d-4bda-ec26-5640da641290"
      },
      "outputs": [],
      "source": [
        "#print(bact)\n",
        "\n",
        "bacts = []\n",
        "for filename in os.listdir(\"kegg_get\"):\n",
        "  print(filename)\n",
        "  with open(\"kegg_get/\"+filename, \"r\") as f:\n",
        "    bacts.append(parse(str(f.read())))\n"
      ]
    },
    {
      "cell_type": "code",
      "execution_count": 16,
      "metadata": {
        "colab": {
          "base_uri": "https://localhost:8080/"
        },
        "id": "27cc_xYJ2pFE",
        "outputId": "8a28ab86-30a6-4b2d-ff7e-18fda2300913"
      },
      "outputs": [
        {
          "name": "stdout",
          "output_type": "stream",
          "text": [
            "Enterohemorrhagic Escherichia coli (EHEC) infection  (ds:H00277)\n",
            "[]\n",
            " ([Genomic comparison of Escherichia coli O104:H4 isolates from 2009 and 2011 reveals plasmid, and prophage heterogeneity, including shiga toxin encoding phage stx2.  (17890332)\tAhmed SA, Awosika J, Baldwin C, Bishop-Lilly KA, Biswas B, Broomall S, Chain PS, Chertkov O, Chokoshvili O, Coyne S, Davenport K, Detter JC, Dorman W, Erkkila TH, Folster JP, Frey KG, George M, Gleasner C, Henry M, Hill KK, Hubbard K, Insalaco J, Johnson S, Kitzmiller A, Krepps M, Lo CC, Luu T, McNew LA, Minogue T, Munk CA, Osborne B, Patel M, Reitenga KG, Rosenzweig CN, Shea A, Shen X, Strockbine N, Tarr C, Teshima H, van Gieson E, Verratti K, Wolcott M, Xie G, Sozhamannan S, Gibbons HS \tPLoS One 7:e48228 (2012)  (10.1371/journal.pone.0048228)])\n"
          ]
        }
      ],
      "source": [
        "print(bacts[0])"
      ]
    },
    {
      "cell_type": "code",
      "execution_count": null,
      "metadata": {},
      "outputs": [],
      "source": []
    }
  ],
  "metadata": {
    "colab": {
      "collapsed_sections": [],
      "name": "progetto-ds.ipynb",
      "provenance": []
    },
    "interpreter": {
      "hash": "ef2a7284430f1a88c8ae79d872df213de471f54b74c4e96aa716701f7ba44c1a"
    },
    "kernelspec": {
      "display_name": "Python 3.9.13 ('bio')",
      "language": "python",
      "name": "python3"
    },
    "language_info": {
      "codemirror_mode": {
        "name": "ipython",
        "version": 3
      },
      "file_extension": ".py",
      "mimetype": "text/x-python",
      "name": "python",
      "nbconvert_exporter": "python",
      "pygments_lexer": "ipython3",
      "version": "3.9.13"
    }
  },
  "nbformat": 4,
  "nbformat_minor": 0
}
