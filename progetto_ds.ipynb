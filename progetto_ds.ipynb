{
  "cells": [
    {
      "cell_type": "code",
      "execution_count": null,
      "metadata": {
        "colab": {
          "base_uri": "https://localhost:8080/"
        },
        "id": "rSZsyq5Jm6bL",
        "outputId": "491f4e69-aac8-49b4-f2ba-3ef2585132b8"
      },
      "outputs": [],
      "source": [
        "%pip install bio\n",
        "from Bio.KEGG import REST\n",
        "import json\n",
        "import os\n",
        "%pip install bs4\n",
        "import requests as req\n",
        "from bs4 import BeautifulSoup as bfs"
      ]
    },
    {
      "cell_type": "code",
      "execution_count": null,
      "metadata": {},
      "outputs": [],
      "source": [
        "## DRUGBANK_link retrival\n",
        "def retrive_page(url):\n",
        "    headers = {\n",
        "    'User-Agent': 'Mozilla/5.0 (Windows NT 10.0; Win64; x64; rv:77.0) Gecko/20100101 Firefox/77.0'\n",
        "    }\n",
        "    response = req.get(url,headers)\n",
        "    soup = bfs(response.content, 'html.parser')\n",
        "    return soup\n",
        "\n",
        "def get_drugbank_link(soup):\n",
        "    links = []\n",
        "    for link in soup.find_all('link'):\n",
        "        if 'drugbank' in link.get('href'):\n",
        "            links.append(link.get('href'))\n",
        "    if len(links)==0:\n",
        "        return \"\"\n",
        "    return links[0]\n",
        "    \n",
        "def get_db_index(soup):\n",
        "    for link in soup.find_all('link'):\n",
        "        if 'drugbank' in link.get('href'):\n",
        "            return link.get('href').split('/')[-1]\n",
        "\n",
        "## DRUGBANK_OBJECT class\n",
        "class db_object():\n",
        "    def __init__(self, drugname):\n",
        "        self.drugname = drugname\n",
        "        self.query_url = 'https://go.drugbank.com/unearth/q?searcher=drugs&query='+self.drugname\n",
        "        try:\n",
        "            self.url = get_drugbank_link(retrive_page(self.query_url))\n",
        "        except:\n",
        "            self.url = 'NoURL'\n",
        "\n",
        "        try:\n",
        "            self.index = get_db_index(retrive_page(self.url))\n",
        "        except:\n",
        "            self.index = 'NoID'\n",
        "        \n",
        "        try:\n",
        "            self.page = retrive_page(self.url)\n",
        "        except:\n",
        "            self.page = 'NoPage'\n",
        "    \n"
      ]
    },
    {
      "cell_type": "code",
      "execution_count": null,
      "metadata": {
        "id": "2HmazCy9cgoK"
      },
      "outputs": [],
      "source": [
        "# Estrazione batteri\n",
        "sngOrg = REST.kegg_get(\"br:br08401\").read()\n",
        "H_list = []\n",
        "check = True\n",
        "bact = False\n",
        "for line in sngOrg.splitlines():\n",
        "  if not check:\n",
        "    break\n",
        "  if line == \"ABacterial infections\":\n",
        "    bact = True\n",
        "    continue\n",
        "  if bact:\n",
        "    if line[0] == 'C':\n",
        "      #print(line)\n",
        "      H_list.append(line.split()[1])\n",
        "  if bact and line[0] == 'A':\n",
        "    check = False"
      ]
    },
    {
      "cell_type": "code",
      "execution_count": null,
      "metadata": {
        "colab": {
          "base_uri": "https://localhost:8080/"
        },
        "id": "3t3-qHRumvtC",
        "outputId": "a0a55b92-f959-47ce-94ac-9c00122fe6cd"
      },
      "outputs": [],
      "source": [
        "#sngOrg = REST.kegg_list(\"ds\").read()\n",
        "#sngOrg = REST.kegg_get([\"H02511\", \"H02512\"]).read()\n",
        "#sngOrg = REST.kegg_get(\"br:br08401\").read()\n",
        "#print(sngOrg)\n",
        "#json_data = json.loads(sngOrg)\n",
        "#H_list = []\n",
        "#print(json_data['children'][0]['children'][0]['children'][0]['name'])\n",
        "#print(len(json_data['children']))\n",
        "#for line in sngOrg.splitlines():\n",
        "#  if line[0] == 'C':\n",
        "#    H_list.append(line.split()[1])\n",
        "# H_list = []\n",
        "#for line in sngOrg.splitlines():\n",
        "#  code = line.split(\"\\t\")[0]\n",
        "#  code_split = code.split(\":\")\n",
        "#  if code_split[0] == \"ds\":\n",
        "#    H_list.append(code_split[1])\n",
        "print(H_list)\n",
        "print(len(H_list))\n",
        "no_paper = 0\n",
        "drug_list = []\n",
        "no_drug_list = []\n",
        "all_get = \"\"\n",
        "for h_id in H_list:\n",
        "  tmp = REST.kegg_get(h_id).read()\n",
        "  with open(f\"kegg_get/{h_id}.txt\", \"w\") as f:\n",
        "    f.write(tmp)\n",
        "  all_get = all_get + tmp\n",
        "  all_get = all_get + \"\\n\"\n",
        "  if 'DRUG' in tmp:\n",
        "    drug_list.append(h_id)\n",
        "  else:\n",
        "    no_drug_list.append(h_id)\n",
        "  if not 'PMID' in tmp:\n",
        "    #print(tmp)\n",
        "    no_paper = no_paper + 1\n",
        "print(drug_list)\n",
        "print(no_drug_list)\n",
        "#sngOrg = REST.kegg_get([\"H00349\"]).read()\n",
        "#print('DRUG' in sngOrg)\n"
      ]
    },
    {
      "cell_type": "code",
      "execution_count": null,
      "metadata": {
        "colab": {
          "base_uri": "https://localhost:8080/"
        },
        "id": "qZ7rTcqBM4uA",
        "outputId": "8ca078f3-aa5e-4388-824d-f01b188df060"
      },
      "outputs": [],
      "source": [
        "print(len(drug_list))\n",
        "print(len(no_drug_list))\n",
        "print(no_paper)"
      ]
    },
    {
      "cell_type": "code",
      "execution_count": null,
      "metadata": {
        "colab": {
          "base_uri": "https://localhost:8080/"
        },
        "id": "69INgrulNBnD",
        "outputId": "2a56644a-d7a7-4dcb-bde7-da641327b14c"
      },
      "outputs": [],
      "source": [
        "#sngOrg = REST.kegg_get(\"gn:ype\").read()\n",
        "\n",
        "sngOrg = REST.kegg_get(\"ds:H01415\").read()\n",
        "\n",
        "print(sngOrg)"
      ]
    },
    {
      "cell_type": "code",
      "execution_count": null,
      "metadata": {
        "id": "8rmHisbFinMF"
      },
      "outputs": [],
      "source": [
        "class paper:\n",
        "   def __init__(self, pmid, authors, title, journal, doi):\n",
        "    self.pmid = pmid\n",
        "    self.authors = authors\n",
        "    self.title = title\n",
        "    self.journal = journal\n",
        "    self.doi = doi\n",
        "\n",
        "   def __repr__(self):\n",
        "    return f\"{self.title} ({self.pmid})\\t{self.authors}\\t{self.journal} ({self.doi})\"\n",
        "      \n",
        "class drug:\n",
        "  def __init__(self, name, id):\n",
        "    self.name = name\n",
        "    self.id = id\n",
        "    self.drugbank_id = \"\"\n",
        "\n",
        "  def __repr__(self):\n",
        "    return f\"{self.name}, ({self.id})\"\n",
        "\n",
        "class bact:\n",
        "  def __init__(self, name, id, description, category, sub, drugs, papers):\n",
        "    self.name = name\n",
        "    self.id = id\n",
        "    self.drugs = drugs\n",
        "    self.papers = papers\n",
        "    self.description = description\n",
        "    self.category = category\n",
        "    self.sub = sub\n",
        "  def __repr__(self):\n",
        "    return f\"{self.name} ({self.id})\\n{self.drugs}\\n ({self.papers})\""
      ]
    },
    {
      "cell_type": "code",
      "execution_count": null,
      "metadata": {
        "id": "gIVehzfwkPEm"
      },
      "outputs": [],
      "source": [
        "def parse(data):\n",
        "  sub_bool = False\n",
        "  sub_count = 0\n",
        "  bact_sub = \"\"\n",
        "  drug_bool = False\n",
        "  paper_bool = False\n",
        "  id_tmp = \"\"\n",
        "  title_tmp = \"\"\n",
        "  authors_tmp = \"\"\n",
        "  journal_tmp = \"\"\n",
        "  doi_tmp = \"\"\n",
        "  doi_bool = False\n",
        "  bact_name = \"\"\n",
        "  bact_id = \"\"\n",
        "  bact_cat = \"\"\n",
        "  bact_des = \"\"\n",
        "  drugs = []\n",
        "  papers = []\n",
        "  for line in data.splitlines():\n",
        "    spl = line.split()\n",
        "    if spl[0] == \"NAME\":\n",
        "      bact_name = \"\".join(spl[i]+ \" \"  for i in range(1, len(spl)))\n",
        "    if spl[0] == \"ENTRY\":\n",
        "      bact_id = \"\".join(spl[i]+ \" \"  for i in range(1, len(spl))).split()[0]\n",
        "    if spl[0] == \"CATEGORY\":\n",
        "      bact_cat = \"\".join(spl[i]+ \" \"  for i in range(1, len(spl)))\n",
        "    if spl[0] == \"DESCRIPTION\":\n",
        "      bact_des = \"\".join(spl[i]+ \" \"  for i in range(1, len(spl)))\n",
        "\n",
        "    if sub_bool == False and spl[0] == \"BRITE\":\n",
        "      sub_bool = True\n",
        "      sub_count += 1\n",
        "    elif sub_bool == True and sub_count == 1:\n",
        "      sub_count += 1\n",
        "    elif sub_bool == True and sub_count == 2:\n",
        "      sub_bool = False\n",
        "      bact_sub = \"\".join(spl[i]+ \" \"  for i in range(0, len(spl)))\n",
        "\n",
        "    if drug_bool == False and spl[0] == \"DRUG\":\n",
        "      name = \"\".join(spl[i]+ \" \"  for i in range(1, len(spl)-1))\n",
        "      drugs.append(drug(name, spl[-1].replace(\"[\", \"\").replace(\"]\", \"\")))\n",
        "      drug_bool = True\n",
        "    elif drug_bool == True and spl[0].upper() != spl[0]:\n",
        "      name = \"\".join(spl[i]+ \" \"  for i in range(0, len(spl)-1))\n",
        "      drugs.append(drug(name, spl[-1].replace(\"[\", \"\").replace(\"]\", \"\")))\n",
        "    elif drug_bool == True and spl[0].upper() == spl[0]:\n",
        "      drug_bool = False\n",
        "\n",
        "    if paper_bool == False and spl[0] == \"REFERENCE\":\n",
        "      if len(spl) > 1 and spl[1].split(\":\")[0] == \"PMID\":\n",
        "        id_tmp = spl[1].split(\":\")[1].replace('\\n',' ')\n",
        "      paper_bool = True\n",
        "    elif paper_bool == True and spl[0] == \"AUTHORS\":\n",
        "      authors_tmp = \"\".join(spl[i]+ \" \"  for i in range(1, len(spl)))\n",
        "    elif paper_bool == True and spl[0] == \"TITLE\":\n",
        "      title_tmp = \"\".join(spl[i]+ \" \"  for i in range(1, len(spl)))\n",
        "    elif paper_bool == True and spl[0] == \"JOURNAL\":\n",
        "      journal_tmp = \"\".join(spl[i]+ \" \"  for i in range(1, len(spl)))\n",
        "      doi_bool = True\n",
        "    elif paper_bool == True and doi_bool == True and spl[0].upper() != spl[0]:\n",
        "      doi_tmp = spl[0].split(\":\")[1].replace('\\n',' ')\n",
        "      doi_bool = False\n",
        "      paper_bool = False\n",
        "      papers.append(paper(id_tmp, authors_tmp, title_tmp, journal_tmp, doi_tmp))\n",
        "\n",
        "  #print(drugs)\n",
        "  #print(papers)\n",
        "\n",
        "  bact_tmp = bact(bact_name, \"ds:\" + bact_id, bact_des, bact_cat, bact_sub, drugs, papers)\n",
        "  #print(bact_tmp)\n",
        "  return bact_tmp"
      ]
    },
    {
      "cell_type": "code",
      "execution_count": null,
      "metadata": {
        "id": "ZJPynR2gkU4H"
      },
      "outputs": [],
      "source": [
        "bact_tmp = parse(sngOrg)"
      ]
    },
    {
      "cell_type": "code",
      "execution_count": null,
      "metadata": {},
      "outputs": [],
      "source": [
        "bact_tmp.drugs"
      ]
    },
    {
      "cell_type": "code",
      "execution_count": null,
      "metadata": {},
      "outputs": [],
      "source": [
        "# call the drugbank object by drug_name\n",
        "drugs_name = []\n",
        "for drug in bact_tmp.drugs:\n",
        "  tmp = db_object(drug.name)\n",
        "  print(tmp.index)\n",
        "\n"
      ]
    },
    {
      "cell_type": "code",
      "execution_count": null,
      "metadata": {
        "colab": {
          "base_uri": "https://localhost:8080/"
        },
        "id": "7eJzrsa0zJu9",
        "outputId": "9a3cdfd6-091d-4bda-ec26-5640da641290"
      },
      "outputs": [],
      "source": [
        "#print(bact)\n",
        "\n",
        "bacts = []\n",
        "for filename in os.listdir(\"kegg_get\"):\n",
        "  print(filename)\n",
        "  with open(\"kegg_get/\"+filename, \"r\") as f:\n",
        "    bacts.append(parse(str(f.read())))\n"
      ]
    },
    {
      "cell_type": "code",
      "execution_count": null,
      "metadata": {
        "colab": {
          "base_uri": "https://localhost:8080/"
        },
        "id": "27cc_xYJ2pFE",
        "outputId": "8a28ab86-30a6-4b2d-ff7e-18fda2300913"
      },
      "outputs": [],
      "source": [
        "print(bacts[0])"
      ]
    },
    {
      "cell_type": "code",
      "execution_count": null,
      "metadata": {},
      "outputs": [],
      "source": []
    }
  ],
  "metadata": {
    "colab": {
      "collapsed_sections": [],
      "name": "progetto-ds.ipynb",
      "provenance": []
    },
    "interpreter": {
      "hash": "ef2a7284430f1a88c8ae79d872df213de471f54b74c4e96aa716701f7ba44c1a"
    },
    "kernelspec": {
      "display_name": "Python 3.9.13 ('bio')",
      "language": "python",
      "name": "python3"
    },
    "language_info": {
      "codemirror_mode": {
        "name": "ipython",
        "version": 3
      },
      "file_extension": ".py",
      "mimetype": "text/x-python",
      "name": "python",
      "nbconvert_exporter": "python",
      "pygments_lexer": "ipython3",
      "version": "3.9.13"
    }
  },
  "nbformat": 4,
  "nbformat_minor": 0
}
