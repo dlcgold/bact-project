{
  "nbformat": 4,
  "nbformat_minor": 0,
  "metadata": {
    "colab": {
      "name": "progetto-ds.ipynb",
      "provenance": [],
      "collapsed_sections": []
    },
    "kernelspec": {
      "name": "python3",
      "display_name": "Python 3"
    },
    "language_info": {
      "name": "python"
    }
  },
  "cells": [
    {
      "cell_type": "code",
      "source": [
        "!pip install bio\n",
        "from Bio.KEGG import REST\n",
        "import json\n",
        "import os"
      ],
      "metadata": {
        "id": "rSZsyq5Jm6bL",
        "colab": {
          "base_uri": "https://localhost:8080/"
        },
        "outputId": "491f4e69-aac8-49b4-f2ba-3ef2585132b8"
      },
      "execution_count": 219,
      "outputs": [
        {
          "output_type": "stream",
          "name": "stdout",
          "text": [
            "Looking in indexes: https://pypi.org/simple, https://us-python.pkg.dev/colab-wheels/public/simple/\n",
            "Requirement already satisfied: bio in /usr/local/lib/python3.7/dist-packages (1.3.8)\n",
            "Requirement already satisfied: requests in /usr/local/lib/python3.7/dist-packages (from bio) (2.23.0)\n",
            "Requirement already satisfied: biopython>=1.79 in /usr/local/lib/python3.7/dist-packages (from bio) (1.79)\n",
            "Requirement already satisfied: mygene in /usr/local/lib/python3.7/dist-packages (from bio) (3.2.2)\n",
            "Requirement already satisfied: tqdm in /usr/local/lib/python3.7/dist-packages (from bio) (4.64.0)\n",
            "Requirement already satisfied: numpy in /usr/local/lib/python3.7/dist-packages (from biopython>=1.79->bio) (1.21.6)\n",
            "Requirement already satisfied: biothings-client>=0.2.6 in /usr/local/lib/python3.7/dist-packages (from mygene->bio) (0.2.6)\n",
            "Requirement already satisfied: urllib3!=1.25.0,!=1.25.1,<1.26,>=1.21.1 in /usr/local/lib/python3.7/dist-packages (from requests->bio) (1.24.3)\n",
            "Requirement already satisfied: chardet<4,>=3.0.2 in /usr/local/lib/python3.7/dist-packages (from requests->bio) (3.0.4)\n",
            "Requirement already satisfied: certifi>=2017.4.17 in /usr/local/lib/python3.7/dist-packages (from requests->bio) (2022.5.18.1)\n",
            "Requirement already satisfied: idna<3,>=2.5 in /usr/local/lib/python3.7/dist-packages (from requests->bio) (2.10)\n"
          ]
        }
      ]
    },
    {
      "cell_type": "code",
      "source": [
        "# Estrazione batteri\n",
        "sngOrg = REST.kegg_get(\"br:br08401\").read()\n",
        "H_list = []\n",
        "check = True\n",
        "bact = False\n",
        "for line in sngOrg.splitlines():\n",
        "  if not check:\n",
        "    break\n",
        "  if line == \"ABacterial infections\":\n",
        "    bact = True\n",
        "    continue\n",
        "  if bact:\n",
        "    if line[0] == 'C':\n",
        "      #print(line)\n",
        "      H_list.append(line.split()[1])\n",
        "  if bact and line[0] == 'A':\n",
        "    check = False"
      ],
      "metadata": {
        "id": "2HmazCy9cgoK"
      },
      "execution_count": 9,
      "outputs": []
    },
    {
      "cell_type": "code",
      "execution_count": 18,
      "metadata": {
        "colab": {
          "base_uri": "https://localhost:8080/"
        },
        "id": "3t3-qHRumvtC",
        "outputId": "a0a55b92-f959-47ce-94ac-9c00122fe6cd"
      },
      "outputs": [
        {
          "output_type": "stream",
          "name": "stdout",
          "text": [
            "['H00277', 'H00278', 'H00280', 'H01311', 'H01312', 'H00279', 'H01313', 'H01339', 'H00111', 'H00112', 'H00113', 'H00299', 'H00300', 'H00301', 'H01415', 'H00302', 'H00297', 'H00298', 'H00303', 'H01343', 'H01335', 'H01067', 'H01345', 'H01350', 'H01414', 'H00304', 'H01366', 'H01330', 'H00305', 'H00306', 'H01068', 'H01317', 'H01069', 'H00110', 'H00307', 'H00308', 'H01070', 'H00313', 'H01441', 'H00309', 'H01072', 'H01073', 'H00310', 'H00311', 'H00312', 'H01074', 'H00314', 'H00315', 'H01353', 'H01337', 'H01080', 'H00316', 'H00317', 'H00319', 'H01066', 'H01077', 'H01083', 'H01084', 'H01081', 'H01373', 'H00320', 'H01374', 'H01332', 'H00321', 'H01379', 'H00322', 'H02379', 'H00323', 'H01397', 'H00324', 'H01139', 'H01141', 'H01142', 'H01140', 'H01157', 'H00325', 'H01144', 'H00326', 'H00327', 'H01147', 'H01148', 'H01150', 'H01151', 'H01164', 'H01165', 'H01166', 'H01167', 'H01169', 'H00328', 'H00329', 'H01399', 'H00330', 'H01409', 'H00331', 'H01401', 'H01176', 'H01175', 'H00332', 'H01405', 'H00333', 'H01424', 'H01515', 'H01517', 'H01426', 'H01321', 'H01423', 'H01406', 'H01443', 'H01041', 'H00335', 'H00336', 'H00337', 'H00339', 'H00338', 'H00340', 'H01444', 'H01315', 'H00341', 'H00388', 'H00342', 'H01472', 'H01458', 'H02029', 'H01462', 'H00344', 'H01042', 'H00343', 'H01051', 'H00345', 'H01451', 'H01021', 'H01049', 'H01050', 'H00352', 'H01445', 'H01446', 'H01411', 'H01325', 'H01380', 'H00349', 'H00347', 'H00348', 'H00351', 'H00350', 'H01064', 'H00353', 'H00427', 'H00354', 'H01318', 'H01530', 'H01531', 'H00355', 'H01454', 'H01314', 'H02076', 'H01407', 'H01059', 'H01442', 'H01455', 'H00334', 'H01331', 'H01408', 'H01440', 'H01410', 'H01422']\n",
            "165\n",
            "['H00111', 'H00299', 'H01415', 'H00297', 'H01366', 'H00305', 'H00306', 'H00110', 'H00310', 'H00311', 'H00312', 'H00314', 'H00315', 'H00319', 'H00320', 'H00321', 'H00322', 'H02379', 'H00323', 'H00325', 'H00326', 'H00328', 'H00330', 'H01409', 'H01176', 'H01175', 'H00332', 'H00333', 'H01424', 'H01515', 'H01517', 'H01321', 'H00336', 'H00337', 'H00339', 'H00338', 'H00340', 'H01315', 'H00342', 'H01472', 'H01458', 'H00344', 'H00343', 'H00345', 'H01445', 'H01325', 'H01380', 'H00349', 'H00347', 'H00348', 'H00350', 'H00353', 'H00427', 'H00354', 'H01318', 'H01530', 'H01531', 'H01314', 'H00334', 'H01331', 'H01440', 'H01410']\n",
            "['H00277', 'H00278', 'H00280', 'H01311', 'H01312', 'H00279', 'H01313', 'H01339', 'H00112', 'H00113', 'H00300', 'H00301', 'H00302', 'H00298', 'H00303', 'H01343', 'H01335', 'H01067', 'H01345', 'H01350', 'H01414', 'H00304', 'H01330', 'H01068', 'H01317', 'H01069', 'H00307', 'H00308', 'H01070', 'H00313', 'H01441', 'H00309', 'H01072', 'H01073', 'H01074', 'H01353', 'H01337', 'H01080', 'H00316', 'H00317', 'H01066', 'H01077', 'H01083', 'H01084', 'H01081', 'H01373', 'H01374', 'H01332', 'H01379', 'H01397', 'H00324', 'H01139', 'H01141', 'H01142', 'H01140', 'H01157', 'H01144', 'H00327', 'H01147', 'H01148', 'H01150', 'H01151', 'H01164', 'H01165', 'H01166', 'H01167', 'H01169', 'H00329', 'H01399', 'H00331', 'H01401', 'H01405', 'H01426', 'H01423', 'H01406', 'H01443', 'H01041', 'H00335', 'H01444', 'H00341', 'H00388', 'H02029', 'H01462', 'H01042', 'H01051', 'H01451', 'H01021', 'H01049', 'H01050', 'H00352', 'H01446', 'H01411', 'H00351', 'H01064', 'H00355', 'H01454', 'H02076', 'H01407', 'H01059', 'H01442', 'H01455', 'H01408', 'H01422']\n"
          ]
        }
      ],
      "source": [
        "#sngOrg = REST.kegg_list(\"ds\").read()\n",
        "#sngOrg = REST.kegg_get([\"H02511\", \"H02512\"]).read()\n",
        "#sngOrg = REST.kegg_get(\"br:br08401\").read()\n",
        "#print(sngOrg)\n",
        "#json_data = json.loads(sngOrg)\n",
        "#H_list = []\n",
        "#print(json_data['children'][0]['children'][0]['children'][0]['name'])\n",
        "#print(len(json_data['children']))\n",
        "#for line in sngOrg.splitlines():\n",
        "#  if line[0] == 'C':\n",
        "#    H_list.append(line.split()[1])\n",
        "# H_list = []\n",
        "#for line in sngOrg.splitlines():\n",
        "#  code = line.split(\"\\t\")[0]\n",
        "#  code_split = code.split(\":\")\n",
        "#  if code_split[0] == \"ds\":\n",
        "#    H_list.append(code_split[1])\n",
        "print(H_list)\n",
        "print(len(H_list))\n",
        "no_paper = 0\n",
        "drug_list = []\n",
        "no_drug_list = []\n",
        "all_get = \"\"\n",
        "for h_id in H_list:\n",
        "  tmp = REST.kegg_get(h_id).read()\n",
        "  with open(f\"kegg_get/{h_id}.txt\", \"w\") as f:\n",
        "    f.write(tmp)\n",
        "  all_get = all_get + tmp\n",
        "  all_get = all_get + \"\\n\"\n",
        "  if 'DRUG' in tmp:\n",
        "    drug_list.append(h_id)\n",
        "  else:\n",
        "    no_drug_list.append(h_id)\n",
        "  if not 'PMID' in tmp:\n",
        "    #print(tmp)\n",
        "    no_paper = no_paper + 1\n",
        "print(drug_list)\n",
        "print(no_drug_list)\n",
        "#sngOrg = REST.kegg_get([\"H00349\"]).read()\n",
        "#print('DRUG' in sngOrg)\n"
      ]
    },
    {
      "cell_type": "code",
      "source": [
        "print(len(drug_list))\n",
        "print(len(no_drug_list))\n",
        "print(no_paper)"
      ],
      "metadata": {
        "colab": {
          "base_uri": "https://localhost:8080/"
        },
        "id": "qZ7rTcqBM4uA",
        "outputId": "8ca078f3-aa5e-4388-824d-f01b188df060"
      },
      "execution_count": 12,
      "outputs": [
        {
          "output_type": "stream",
          "name": "stdout",
          "text": [
            "62\n",
            "103\n",
            "1\n"
          ]
        }
      ]
    },
    {
      "cell_type": "code",
      "source": [
        "#sngOrg = REST.kegg_get(\"gn:ype\").read()\n",
        "\n",
        "sngOrg = REST.kegg_get(\"ds:H00111\").read()\n",
        "\n",
        "print(sngOrg)"
      ],
      "metadata": {
        "id": "69INgrulNBnD",
        "outputId": "2a56644a-d7a7-4dcb-bde7-da641327b14c",
        "colab": {
          "base_uri": "https://localhost:8080/"
        }
      },
      "execution_count": 148,
      "outputs": [
        {
          "output_type": "stream",
          "name": "stdout",
          "text": [
            "ENTRY       H00111                      Disease\n",
            "NAME        Typhoid fever\n",
            "DESCRIPTION Typhoid fever, or typhoid, caused by Salmonella enterica serovar Typhi is a systemic febrile disease and endemic disease in many areas of the world, mainly in developing countries. Typhoid is transmitted through ingestion of contaminated water or food and characterized by a variable incubation period ranging from three days to one month.\n",
            "CATEGORY    Infectious disease\n",
            "BRITE       Infectious diseases [BR:br08401]\n",
            "             Bacterial infections\n",
            "              Infections caused by enterobacteria\n",
            "               H00111  Typhoid fever\n",
            "            Human diseases in ICD-11 classification [BR:br08403]\n",
            "             01 Certain infectious or parasitic diseases\n",
            "              Gastroenteritis or colitis of infectious origin\n",
            "               Bacterial intestinal infections\n",
            "                1A07  Typhoid fever\n",
            "                 H00111  Typhoid fever\n",
            "PATHWAY     hsa05132  Salmonella infection\n",
            "PATHOGEN    Salmonella enterica subsp. enterica serovar Typhi [GN:sty stt sex]\n",
            "  MODULE    M00856  Salmonella enterica pathogenicity signature, typhoid toxin\n",
            "            M00857  Salmonella enterica pathogenicity signature, Vi antigen\n",
            "DRUG        Chloramphenicol sodium succinate [DR:D02185]\n",
            "            Ciprofloxacin hydrochloride [DR:D02216]\n",
            "DBLINKS     ICD-11: 1A07\n",
            "            ICD-10: A01.0\n",
            "            MeSH: D014435\n",
            "            MedlinePlus: 001332\n",
            "REFERENCE   PMID:19397806\n",
            "  AUTHORS   Bhunia R, Hutin Y, Ramakrishnan R, Pal N, Sen T, Murhekar M\n",
            "  TITLE     A typhoid fever outbreak in a slum of South Dumdum municipality, West Bengal, India, 2007: evidence for foodborne and waterborne transmission.\n",
            "  JOURNAL   BMC Public Health 9:115 (2009)\n",
            "            DOI:10.1186/1471-2458-9-115\n",
            "REFERENCE   PMID:20014951\n",
            "  AUTHORS   Crump JA, Mintz ED\n",
            "  TITLE     Global trends in typhoid and paratyphoid Fever.\n",
            "  JOURNAL   Clin Infect Dis 50:241-6 (2010)\n",
            "            DOI:10.1086/649541\n",
            "REFERENCE   PMID:21945101\n",
            "  AUTHORS   Kaur J, Jain SK\n",
            "  TITLE     Role of antigens and virulence factors of Salmonella enterica serovar Typhi in its pathogenesis.\n",
            "  JOURNAL   Microbiol Res 167:199-210 (2012)\n",
            "            DOI:10.1016/j.micres.2011.08.001\n",
            "///\n",
            "\n"
          ]
        }
      ]
    },
    {
      "cell_type": "code",
      "source": [
        "class paper:\n",
        "   def __init__(self, pmid, authors, title, journal, doi):\n",
        "    self.pmid = pmid\n",
        "    self.authors = authors\n",
        "    self.title = title\n",
        "    self.journal = journal\n",
        "    self.doi = doi\n",
        "\n",
        "   def __repr__(self):\n",
        "    return f\"{self.title} ({self.pmid})\\t{self.authors}\\t{self.journal} ({self.doi})\"\n",
        "      \n",
        "class drug:\n",
        "  def __init__(self, name, id):\n",
        "    self.name = name\n",
        "    self.id = id\n",
        "\n",
        "  def __repr__(self):\n",
        "    return f\"{self.name}, ({self.id})\"\n",
        "\n",
        "class bact:\n",
        "  def __init__(self, name, id, description, category, sub, drugs, papers):\n",
        "    self.name = name\n",
        "    self.id = id\n",
        "    self.drugs = drugs\n",
        "    self.papers = papers\n",
        "    self.description = description\n",
        "    self.category = category\n",
        "    self.sub = sub\n",
        "  def __repr__(self):\n",
        "    return f\"{self.name} ({self.id})\\n{self.drugs}\\n ({self.papers})\""
      ],
      "metadata": {
        "id": "8rmHisbFinMF"
      },
      "execution_count": 224,
      "outputs": []
    },
    {
      "cell_type": "code",
      "source": [
        "def parse(data):\n",
        "  sub_bool = False\n",
        "  sub_count = 0\n",
        "  bact_sub = \"\"\n",
        "  drug_bool = False\n",
        "  paper_bool = False\n",
        "  id_tmp = \"\"\n",
        "  title_tmp = \"\"\n",
        "  authors_tmp = \"\"\n",
        "  journal_tmp = \"\"\n",
        "  doi_tmp = \"\"\n",
        "  doi_bool = False\n",
        "  bact_name = \"\"\n",
        "  bact_id = \"\"\n",
        "  bact_cat = \"\"\n",
        "  bact_des = \"\"\n",
        "  drugs = []\n",
        "  papers = []\n",
        "  for line in data.splitlines():\n",
        "    spl = line.split()\n",
        "    if spl[0] == \"NAME\":\n",
        "      bact_name = \"\".join(spl[i]+ \" \"  for i in range(1, len(spl)))\n",
        "    if spl[0] == \"ENTRY\":\n",
        "      bact_id = \"\".join(spl[i]+ \" \"  for i in range(1, len(spl))).split()[0]\n",
        "    if spl[0] == \"CATEGORY\":\n",
        "      bact_cat = \"\".join(spl[i]+ \" \"  for i in range(1, len(spl)))\n",
        "    if spl[0] == \"DESCRIPTION\":\n",
        "      bact_des = \"\".join(spl[i]+ \" \"  for i in range(1, len(spl)))\n",
        "\n",
        "    if sub_bool == False and spl[0] == \"BRITE\":\n",
        "      sub_bool = True\n",
        "      sub_count += 1\n",
        "    elif sub_bool == True and sub_count == 1:\n",
        "      sub_count += 1\n",
        "    elif sub_bool == True and sub_count == 2:\n",
        "      sub_bool = False\n",
        "      bact_sub = \"\".join(spl[i]+ \" \"  for i in range(0, len(spl)))\n",
        "\n",
        "    if drug_bool == False and spl[0] == \"DRUG\":\n",
        "      name = \"\".join(spl[i]+ \" \"  for i in range(1, len(spl)-1))\n",
        "      drugs.append(drug(name, spl[-1].replace(\"[\", \"\").replace(\"]\", \"\")))\n",
        "      drug_bool = True\n",
        "    elif drug_bool == True and spl[0].upper() != spl[0]:\n",
        "      name = \"\".join(spl[i]+ \" \"  for i in range(0, len(spl)))\n",
        "      drugs.append(drug(name, spl[-1].replace(\"[\", \"\").replace(\"]\", \"\")))\n",
        "    elif drug_bool == True and spl[0].upper() == spl[0]:\n",
        "      drug_bool = False\n",
        "\n",
        "    if paper_bool == False and spl[0] == \"REFERENCE\":\n",
        "      if len(spl) > 1 and spl[1].split(\":\")[0] == \"PMID\":\n",
        "        id_tmp = spl[1].split(\":\")[1].replace('\\n',' ')\n",
        "      paper_bool = True\n",
        "    elif paper_bool == True and spl[0] == \"AUTHORS\":\n",
        "      authors_tmp = \"\".join(spl[i]+ \" \"  for i in range(1, len(spl)))\n",
        "    elif paper_bool == True and spl[0] == \"TITLE\":\n",
        "      title_tmp = \"\".join(spl[i]+ \" \"  for i in range(1, len(spl)))\n",
        "    elif paper_bool == True and spl[0] == \"JOURNAL\":\n",
        "      journal_tmp = \"\".join(spl[i]+ \" \"  for i in range(1, len(spl)))\n",
        "      doi_bool = True\n",
        "    elif paper_bool == True and doi_bool == True and spl[0].upper() != spl[0]:\n",
        "      doi_tmp = spl[0].split(\":\")[1].replace('\\n',' ')\n",
        "      doi_bool = False\n",
        "      paper_bool = False\n",
        "      papers.append(paper(id_tmp, authors_tmp, title_tmp, journal_tmp, doi_tmp))\n",
        "\n",
        "  #print(drugs)\n",
        "  #print(papers)\n",
        "\n",
        "  bact_tmp = bact(bact_name, \"ds:\" + bact_id, bact_des, bact_cat, bact_sub, drugs, papers)\n",
        "  #print(bact_tmp)\n",
        "  return bact_tmp"
      ],
      "metadata": {
        "id": "gIVehzfwkPEm"
      },
      "execution_count": 233,
      "outputs": []
    },
    {
      "cell_type": "code",
      "source": [
        "bact_tmp = parse(sngOrg)"
      ],
      "metadata": {
        "id": "ZJPynR2gkU4H"
      },
      "execution_count": 225,
      "outputs": []
    },
    {
      "cell_type": "code",
      "source": [
        "#print(bact)\n",
        "\n",
        "bacts = []\n",
        "for filename in os.listdir(\"kegg_get\"):\n",
        "  print(filename)\n",
        "  with open(\"kegg_get/\"+filename, \"r\") as f:\n",
        "    bacts.append(parse(str(f.read())))\n"
      ],
      "metadata": {
        "colab": {
          "base_uri": "https://localhost:8080/"
        },
        "id": "7eJzrsa0zJu9",
        "outputId": "9a3cdfd6-091d-4bda-ec26-5640da641290"
      },
      "execution_count": 235,
      "outputs": [
        {
          "output_type": "stream",
          "name": "stdout",
          "text": [
            "H01445.txt\n",
            "H00340.txt\n",
            "H01458.txt\n",
            "H00313.txt\n",
            "H01165.txt\n",
            "H01426.txt\n",
            "H01068.txt\n",
            "H01440.txt\n",
            "H00335.txt\n",
            "H01515.txt\n",
            "H00337.txt\n",
            "H00328.txt\n",
            "H01081.txt\n",
            "H01317.txt\n",
            "H00278.txt\n",
            "H01072.txt\n",
            "H01083.txt\n",
            "H01049.txt\n",
            "H00305.txt\n",
            "H00353.txt\n",
            "H00319.txt\n",
            "H01050.txt\n",
            "H01080.txt\n",
            "H01021.txt\n",
            "H01074.txt\n",
            "H01353.txt\n",
            "H01380.txt\n",
            "H01077.txt\n",
            "H00277.txt\n",
            "H00301.txt\n",
            "H00303.txt\n",
            "H01454.txt\n",
            "H00111.txt\n",
            "H01407.txt\n",
            "H00343.txt\n",
            "H01064.txt\n",
            "H01444.txt\n",
            "H02029.txt\n",
            "H01531.txt\n",
            "H00342.txt\n",
            "H00280.txt\n",
            "H01164.txt\n",
            "H00347.txt\n",
            "H00388.txt\n",
            "H01330.txt\n",
            "H01339.txt\n",
            "H00323.txt\n",
            "H00316.txt\n",
            "H00352.txt\n",
            "H01167.txt\n",
            "H00325.txt\n",
            "H01517.txt\n",
            "H01379.txt\n",
            "H01410.txt\n",
            "H01175.txt\n",
            "H01332.txt\n",
            "H00113.txt\n",
            "H00314.txt\n",
            "H00354.txt\n",
            "H01343.txt\n",
            "H01073.txt\n",
            "H01148.txt\n",
            "H00350.txt\n",
            "H01157.txt\n",
            "H00355.txt\n",
            "H00326.txt\n",
            "H00329.txt\n",
            "H00315.txt\n",
            "H00300.txt\n",
            "H00333.txt\n",
            "H01141.txt\n",
            "H00332.txt\n",
            "H01366.txt\n",
            "H00351.txt\n",
            "H01462.txt\n",
            "H01142.txt\n",
            "H01311.txt\n",
            "H01373.txt\n",
            "H01415.txt\n",
            "H00339.txt\n",
            "H01166.txt\n",
            "H01314.txt\n",
            "H01069.txt\n",
            "H01472.txt\n",
            "H00345.txt\n",
            "H00309.txt\n",
            "H01041.txt\n",
            "H01374.txt\n",
            "H00331.txt\n",
            "H00341.txt\n",
            "H01401.txt\n",
            "H01315.txt\n",
            "H01151.txt\n",
            "H01059.txt\n",
            "H00321.txt\n",
            "H00330.txt\n",
            "H01409.txt\n",
            "H01169.txt\n",
            "H01331.txt\n",
            "H01335.txt\n",
            "H00304.txt\n",
            "H00322.txt\n",
            "H00307.txt\n",
            "H00308.txt\n",
            "H01451.txt\n",
            "H01144.txt\n",
            "H01408.txt\n",
            "H01399.txt\n",
            "H01337.txt\n",
            "H00324.txt\n",
            "H00279.txt\n",
            "H01140.txt\n",
            "H01406.txt\n",
            "H01084.txt\n",
            "H01455.txt\n",
            "H01042.txt\n",
            "H01424.txt\n",
            "H01066.txt\n",
            "H01313.txt\n",
            "H01350.txt\n",
            "H02076.txt\n",
            "H01312.txt\n",
            "H01397.txt\n",
            "H00327.txt\n",
            "H01051.txt\n",
            "H01147.txt\n",
            "H01530.txt\n",
            "H00336.txt\n",
            "H01422.txt\n",
            "H00298.txt\n",
            "H00311.txt\n",
            "H00302.txt\n",
            "H00110.txt\n",
            "H01321.txt\n",
            "H01325.txt\n",
            "H00112.txt\n",
            "H00320.txt\n",
            "H00297.txt\n",
            "H01441.txt\n",
            "H01150.txt\n",
            "H02379.txt\n",
            "H01411.txt\n",
            "H00427.txt\n",
            "H01414.txt\n",
            "H00317.txt\n",
            "H01067.txt\n",
            "H01318.txt\n",
            "H01176.txt\n",
            "H00312.txt\n",
            "H00349.txt\n",
            "H00338.txt\n",
            "H01405.txt\n",
            "H01423.txt\n",
            "H01443.txt\n",
            "H00334.txt\n",
            "H00344.txt\n",
            "H00310.txt\n",
            "H01345.txt\n",
            "H00348.txt\n",
            "H00299.txt\n",
            "H01446.txt\n",
            "H01139.txt\n",
            "H00306.txt\n",
            "H01070.txt\n",
            "H01442.txt\n",
            "165\n"
          ]
        }
      ]
    },
    {
      "cell_type": "code",
      "source": [
        "print(bacts[0])"
      ],
      "metadata": {
        "colab": {
          "base_uri": "https://localhost:8080/"
        },
        "id": "27cc_xYJ2pFE",
        "outputId": "8a28ab86-30a6-4b2d-ff7e-18fda2300913"
      },
      "execution_count": 236,
      "outputs": [
        {
          "output_type": "stream",
          "name": "stdout",
          "text": [
            "Acne vulgaris  (ds:H01445)\n",
            "[Tetracycline hydrochloride , (DR:D02122), Doxycycline [DR:D00307] , (DR:D00307), Doxycycline calcium [DR:D03903] , (DR:D03903), Minocycline hydrochloride [DR:D00850] , (DR:D00850), Tazarotene [DR:D01132] , (DR:D01132), Tretinoin [DR:D00094] , (DR:D00094), Adapalene [DR:D01112] , (DR:D01112), Trifarotene [DR:D11225] , (DR:D11225), Clindamycin phosphate and tretinoin [DR:D11084] , (DR:D11084), Adapalene and benzoyl peroxide [DR:D10792] , (DR:D10792), Benzoyl peroxide [DR:D03093] , (DR:D03093), Clindamycin phosphate and benzoyl peroxide [DR:D10602] , (DR:D10602), Benzoyl peroxide and erythromycin [DR:D11646] , (DR:D11646), Clindamycin phosphate [DR:D01073] , (DR:D01073), Erythromycin [DR:D00140] , (DR:D00140), Sulfacetamide sodium [DR:D00871] , (DR:D00871), Dapsone [DR:D00592] , (DR:D00592), Clascoterone [DR:D11451] , (DR:D11451), Norgestimate and ethinyl estradiol [DR:D10590] , (DR:D10590), Sarecycline hydrochloride [DR:D10667] , (DR:D10667), Benzoyl peroxide and tretinoin [DR:D12338] , (DR:D12338)]\n",
            " ([Propionibacterium acnes: infection beyond the skin.  (21880356)\tPerry A, Lambert P \tExpert Rev Anti Infect Ther 9:1149-56 (2011)  (10.1586/eri.11.137)])\n"
          ]
        }
      ]
    }
  ]
}